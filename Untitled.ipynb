{
 "cells": [
  {
   "cell_type": "code",
   "execution_count": 1,
   "id": "f7bb7ca3",
   "metadata": {},
   "outputs": [
    {
     "name": "stdout",
     "output_type": "stream",
     "text": [
      "Requirement already satisfied: pandas in /Users/joancodinach/anaconda3/lib/python3.10/site-packages (1.5.3)\n",
      "Requirement already satisfied: geopandas in /Users/joancodinach/anaconda3/lib/python3.10/site-packages (0.14.2)\n",
      "Requirement already satisfied: matplotlib in /Users/joancodinach/anaconda3/lib/python3.10/site-packages (3.7.0)\n",
      "Requirement already satisfied: python-dateutil>=2.8.1 in /Users/joancodinach/anaconda3/lib/python3.10/site-packages (from pandas) (2.8.2)\n",
      "Requirement already satisfied: pytz>=2020.1 in /Users/joancodinach/anaconda3/lib/python3.10/site-packages (from pandas) (2022.7)\n",
      "Requirement already satisfied: numpy>=1.21.0 in /Users/joancodinach/anaconda3/lib/python3.10/site-packages (from pandas) (1.23.5)\n",
      "Requirement already satisfied: pyproj>=3.3.0 in /Users/joancodinach/anaconda3/lib/python3.10/site-packages (from geopandas) (3.6.1)\n",
      "Requirement already satisfied: fiona>=1.8.21 in /Users/joancodinach/anaconda3/lib/python3.10/site-packages (from geopandas) (1.9.5)\n",
      "Requirement already satisfied: shapely>=1.8.0 in /Users/joancodinach/anaconda3/lib/python3.10/site-packages (from geopandas) (2.0.2)\n",
      "Requirement already satisfied: packaging in /Users/joancodinach/anaconda3/lib/python3.10/site-packages (from geopandas) (22.0)\n",
      "Requirement already satisfied: kiwisolver>=1.0.1 in /Users/joancodinach/anaconda3/lib/python3.10/site-packages (from matplotlib) (1.4.4)\n",
      "Requirement already satisfied: contourpy>=1.0.1 in /Users/joancodinach/anaconda3/lib/python3.10/site-packages (from matplotlib) (1.0.5)\n",
      "Requirement already satisfied: pyparsing>=2.3.1 in /Users/joancodinach/anaconda3/lib/python3.10/site-packages (from matplotlib) (3.0.9)\n",
      "Requirement already satisfied: cycler>=0.10 in /Users/joancodinach/anaconda3/lib/python3.10/site-packages (from matplotlib) (0.11.0)\n",
      "Requirement already satisfied: pillow>=6.2.0 in /Users/joancodinach/anaconda3/lib/python3.10/site-packages (from matplotlib) (9.4.0)\n",
      "Requirement already satisfied: fonttools>=4.22.0 in /Users/joancodinach/anaconda3/lib/python3.10/site-packages (from matplotlib) (4.25.0)\n",
      "Requirement already satisfied: setuptools in /Users/joancodinach/anaconda3/lib/python3.10/site-packages (from fiona>=1.8.21->geopandas) (65.6.3)\n",
      "Requirement already satisfied: click-plugins>=1.0 in /Users/joancodinach/anaconda3/lib/python3.10/site-packages (from fiona>=1.8.21->geopandas) (1.1.1)\n",
      "Requirement already satisfied: certifi in /Users/joancodinach/anaconda3/lib/python3.10/site-packages (from fiona>=1.8.21->geopandas) (2022.12.7)\n",
      "Requirement already satisfied: six in /Users/joancodinach/anaconda3/lib/python3.10/site-packages (from fiona>=1.8.21->geopandas) (1.16.0)\n",
      "Requirement already satisfied: cligj>=0.5 in /Users/joancodinach/anaconda3/lib/python3.10/site-packages (from fiona>=1.8.21->geopandas) (0.7.2)\n",
      "Requirement already satisfied: attrs>=19.2.0 in /Users/joancodinach/anaconda3/lib/python3.10/site-packages (from fiona>=1.8.21->geopandas) (22.1.0)\n",
      "Requirement already satisfied: click~=8.0 in /Users/joancodinach/anaconda3/lib/python3.10/site-packages (from fiona>=1.8.21->geopandas) (8.0.4)\n"
     ]
    }
   ],
   "source": [
    "!pip install pandas geopandas matplotlib"
   ]
  },
  {
   "cell_type": "code",
   "execution_count": 2,
   "id": "07aa54de",
   "metadata": {},
   "outputs": [
    {
     "name": "stdout",
     "output_type": "stream",
     "text": [
      "Requirement already satisfied: mplcursors in /Users/joancodinach/anaconda3/lib/python3.10/site-packages (0.5.3)\n",
      "Requirement already satisfied: matplotlib!=3.7.1,>=3.1 in /Users/joancodinach/anaconda3/lib/python3.10/site-packages (from mplcursors) (3.7.0)\n",
      "Requirement already satisfied: pyparsing>=2.3.1 in /Users/joancodinach/anaconda3/lib/python3.10/site-packages (from matplotlib!=3.7.1,>=3.1->mplcursors) (3.0.9)\n",
      "Requirement already satisfied: contourpy>=1.0.1 in /Users/joancodinach/anaconda3/lib/python3.10/site-packages (from matplotlib!=3.7.1,>=3.1->mplcursors) (1.0.5)\n",
      "Requirement already satisfied: numpy>=1.20 in /Users/joancodinach/anaconda3/lib/python3.10/site-packages (from matplotlib!=3.7.1,>=3.1->mplcursors) (1.23.5)\n",
      "Requirement already satisfied: cycler>=0.10 in /Users/joancodinach/anaconda3/lib/python3.10/site-packages (from matplotlib!=3.7.1,>=3.1->mplcursors) (0.11.0)\n",
      "Requirement already satisfied: fonttools>=4.22.0 in /Users/joancodinach/anaconda3/lib/python3.10/site-packages (from matplotlib!=3.7.1,>=3.1->mplcursors) (4.25.0)\n",
      "Requirement already satisfied: pillow>=6.2.0 in /Users/joancodinach/anaconda3/lib/python3.10/site-packages (from matplotlib!=3.7.1,>=3.1->mplcursors) (9.4.0)\n",
      "Requirement already satisfied: packaging>=20.0 in /Users/joancodinach/anaconda3/lib/python3.10/site-packages (from matplotlib!=3.7.1,>=3.1->mplcursors) (22.0)\n",
      "Requirement already satisfied: kiwisolver>=1.0.1 in /Users/joancodinach/anaconda3/lib/python3.10/site-packages (from matplotlib!=3.7.1,>=3.1->mplcursors) (1.4.4)\n",
      "Requirement already satisfied: python-dateutil>=2.7 in /Users/joancodinach/anaconda3/lib/python3.10/site-packages (from matplotlib!=3.7.1,>=3.1->mplcursors) (2.8.2)\n",
      "Requirement already satisfied: six>=1.5 in /Users/joancodinach/anaconda3/lib/python3.10/site-packages (from python-dateutil>=2.7->matplotlib!=3.7.1,>=3.1->mplcursors) (1.16.0)\n"
     ]
    }
   ],
   "source": [
    "!pip install mplcursors\n"
   ]
  },
  {
   "cell_type": "code",
   "execution_count": 3,
   "id": "40e0586e",
   "metadata": {},
   "outputs": [
    {
     "name": "stdout",
     "output_type": "stream",
     "text": [
      "Requirement already satisfied: ipywidgets in /Users/joancodinach/anaconda3/lib/python3.10/site-packages (7.6.5)\n",
      "Requirement already satisfied: ipython>=4.0.0 in /Users/joancodinach/anaconda3/lib/python3.10/site-packages (from ipywidgets) (8.10.0)\n",
      "Requirement already satisfied: ipython-genutils~=0.2.0 in /Users/joancodinach/anaconda3/lib/python3.10/site-packages (from ipywidgets) (0.2.0)\n",
      "Requirement already satisfied: nbformat>=4.2.0 in /Users/joancodinach/anaconda3/lib/python3.10/site-packages (from ipywidgets) (5.7.0)\n",
      "Requirement already satisfied: ipykernel>=4.5.1 in /Users/joancodinach/anaconda3/lib/python3.10/site-packages (from ipywidgets) (6.19.2)\n",
      "Requirement already satisfied: traitlets>=4.3.1 in /Users/joancodinach/anaconda3/lib/python3.10/site-packages (from ipywidgets) (5.7.1)\n",
      "Requirement already satisfied: jupyterlab-widgets>=1.0.0 in /Users/joancodinach/anaconda3/lib/python3.10/site-packages (from ipywidgets) (1.0.0)\n",
      "Requirement already satisfied: widgetsnbextension~=3.5.0 in /Users/joancodinach/anaconda3/lib/python3.10/site-packages (from ipywidgets) (3.5.2)\n",
      "Requirement already satisfied: jupyter-client>=6.1.12 in /Users/joancodinach/anaconda3/lib/python3.10/site-packages (from ipykernel>=4.5.1->ipywidgets) (7.3.4)\n",
      "Requirement already satisfied: tornado>=6.1 in /Users/joancodinach/anaconda3/lib/python3.10/site-packages (from ipykernel>=4.5.1->ipywidgets) (6.1)\n",
      "Requirement already satisfied: appnope in /Users/joancodinach/anaconda3/lib/python3.10/site-packages (from ipykernel>=4.5.1->ipywidgets) (0.1.2)\n",
      "Requirement already satisfied: packaging in /Users/joancodinach/anaconda3/lib/python3.10/site-packages (from ipykernel>=4.5.1->ipywidgets) (22.0)\n",
      "Requirement already satisfied: matplotlib-inline>=0.1 in /Users/joancodinach/anaconda3/lib/python3.10/site-packages (from ipykernel>=4.5.1->ipywidgets) (0.1.6)\n",
      "Requirement already satisfied: psutil in /Users/joancodinach/anaconda3/lib/python3.10/site-packages (from ipykernel>=4.5.1->ipywidgets) (5.9.0)\n",
      "Requirement already satisfied: pyzmq>=17 in /Users/joancodinach/anaconda3/lib/python3.10/site-packages (from ipykernel>=4.5.1->ipywidgets) (23.2.0)\n",
      "Requirement already satisfied: nest-asyncio in /Users/joancodinach/anaconda3/lib/python3.10/site-packages (from ipykernel>=4.5.1->ipywidgets) (1.5.6)\n",
      "Requirement already satisfied: comm>=0.1.1 in /Users/joancodinach/anaconda3/lib/python3.10/site-packages (from ipykernel>=4.5.1->ipywidgets) (0.1.2)\n",
      "Requirement already satisfied: debugpy>=1.0 in /Users/joancodinach/anaconda3/lib/python3.10/site-packages (from ipykernel>=4.5.1->ipywidgets) (1.5.1)\n",
      "Requirement already satisfied: stack-data in /Users/joancodinach/anaconda3/lib/python3.10/site-packages (from ipython>=4.0.0->ipywidgets) (0.2.0)\n",
      "Requirement already satisfied: jedi>=0.16 in /Users/joancodinach/anaconda3/lib/python3.10/site-packages (from ipython>=4.0.0->ipywidgets) (0.18.1)\n",
      "Requirement already satisfied: backcall in /Users/joancodinach/anaconda3/lib/python3.10/site-packages (from ipython>=4.0.0->ipywidgets) (0.2.0)\n",
      "Requirement already satisfied: pickleshare in /Users/joancodinach/anaconda3/lib/python3.10/site-packages (from ipython>=4.0.0->ipywidgets) (0.7.5)\n",
      "Requirement already satisfied: pexpect>4.3 in /Users/joancodinach/anaconda3/lib/python3.10/site-packages (from ipython>=4.0.0->ipywidgets) (4.8.0)\n",
      "Requirement already satisfied: prompt-toolkit<3.1.0,>=3.0.30 in /Users/joancodinach/anaconda3/lib/python3.10/site-packages (from ipython>=4.0.0->ipywidgets) (3.0.36)\n",
      "Requirement already satisfied: decorator in /Users/joancodinach/anaconda3/lib/python3.10/site-packages (from ipython>=4.0.0->ipywidgets) (5.1.1)\n",
      "Requirement already satisfied: pygments>=2.4.0 in /Users/joancodinach/anaconda3/lib/python3.10/site-packages (from ipython>=4.0.0->ipywidgets) (2.11.2)\n",
      "Requirement already satisfied: jsonschema>=2.6 in /Users/joancodinach/anaconda3/lib/python3.10/site-packages (from nbformat>=4.2.0->ipywidgets) (4.17.3)\n",
      "Requirement already satisfied: jupyter-core in /Users/joancodinach/anaconda3/lib/python3.10/site-packages (from nbformat>=4.2.0->ipywidgets) (5.2.0)\n",
      "Requirement already satisfied: fastjsonschema in /Users/joancodinach/anaconda3/lib/python3.10/site-packages (from nbformat>=4.2.0->ipywidgets) (2.16.2)\n",
      "Requirement already satisfied: notebook>=4.4.1 in /Users/joancodinach/anaconda3/lib/python3.10/site-packages (from widgetsnbextension~=3.5.0->ipywidgets) (6.5.2)\n",
      "Requirement already satisfied: parso<0.9.0,>=0.8.0 in /Users/joancodinach/anaconda3/lib/python3.10/site-packages (from jedi>=0.16->ipython>=4.0.0->ipywidgets) (0.8.3)\n",
      "Requirement already satisfied: attrs>=17.4.0 in /Users/joancodinach/anaconda3/lib/python3.10/site-packages (from jsonschema>=2.6->nbformat>=4.2.0->ipywidgets) (22.1.0)\n",
      "Requirement already satisfied: pyrsistent!=0.17.0,!=0.17.1,!=0.17.2,>=0.14.0 in /Users/joancodinach/anaconda3/lib/python3.10/site-packages (from jsonschema>=2.6->nbformat>=4.2.0->ipywidgets) (0.18.0)\n",
      "Requirement already satisfied: entrypoints in /Users/joancodinach/anaconda3/lib/python3.10/site-packages (from jupyter-client>=6.1.12->ipykernel>=4.5.1->ipywidgets) (0.4)\n",
      "Requirement already satisfied: python-dateutil>=2.8.2 in /Users/joancodinach/anaconda3/lib/python3.10/site-packages (from jupyter-client>=6.1.12->ipykernel>=4.5.1->ipywidgets) (2.8.2)\n",
      "Requirement already satisfied: platformdirs>=2.5 in /Users/joancodinach/anaconda3/lib/python3.10/site-packages (from jupyter-core->nbformat>=4.2.0->ipywidgets) (2.5.2)\n",
      "Requirement already satisfied: prometheus-client in /Users/joancodinach/anaconda3/lib/python3.10/site-packages (from notebook>=4.4.1->widgetsnbextension~=3.5.0->ipywidgets) (0.14.1)\n",
      "Requirement already satisfied: Send2Trash>=1.8.0 in /Users/joancodinach/anaconda3/lib/python3.10/site-packages (from notebook>=4.4.1->widgetsnbextension~=3.5.0->ipywidgets) (1.8.0)\n",
      "Requirement already satisfied: jinja2 in /Users/joancodinach/anaconda3/lib/python3.10/site-packages (from notebook>=4.4.1->widgetsnbextension~=3.5.0->ipywidgets) (3.1.2)\n",
      "Requirement already satisfied: argon2-cffi in /Users/joancodinach/anaconda3/lib/python3.10/site-packages (from notebook>=4.4.1->widgetsnbextension~=3.5.0->ipywidgets) (21.3.0)\n",
      "Requirement already satisfied: nbconvert>=5 in /Users/joancodinach/anaconda3/lib/python3.10/site-packages (from notebook>=4.4.1->widgetsnbextension~=3.5.0->ipywidgets) (6.5.4)\n",
      "Requirement already satisfied: terminado>=0.8.3 in /Users/joancodinach/anaconda3/lib/python3.10/site-packages (from notebook>=4.4.1->widgetsnbextension~=3.5.0->ipywidgets) (0.17.1)\n",
      "Requirement already satisfied: nbclassic>=0.4.7 in /Users/joancodinach/anaconda3/lib/python3.10/site-packages (from notebook>=4.4.1->widgetsnbextension~=3.5.0->ipywidgets) (0.5.2)\n",
      "Requirement already satisfied: ptyprocess>=0.5 in /Users/joancodinach/anaconda3/lib/python3.10/site-packages (from pexpect>4.3->ipython>=4.0.0->ipywidgets) (0.7.0)\n",
      "Requirement already satisfied: wcwidth in /Users/joancodinach/anaconda3/lib/python3.10/site-packages (from prompt-toolkit<3.1.0,>=3.0.30->ipython>=4.0.0->ipywidgets) (0.2.5)\n",
      "Requirement already satisfied: executing in /Users/joancodinach/anaconda3/lib/python3.10/site-packages (from stack-data->ipython>=4.0.0->ipywidgets) (0.8.3)\n",
      "Requirement already satisfied: asttokens in /Users/joancodinach/anaconda3/lib/python3.10/site-packages (from stack-data->ipython>=4.0.0->ipywidgets) (2.0.5)\n",
      "Requirement already satisfied: pure-eval in /Users/joancodinach/anaconda3/lib/python3.10/site-packages (from stack-data->ipython>=4.0.0->ipywidgets) (0.2.2)\n",
      "Requirement already satisfied: jupyter-server>=1.8 in /Users/joancodinach/anaconda3/lib/python3.10/site-packages (from nbclassic>=0.4.7->notebook>=4.4.1->widgetsnbextension~=3.5.0->ipywidgets) (1.23.4)\n",
      "Requirement already satisfied: notebook-shim>=0.1.0 in /Users/joancodinach/anaconda3/lib/python3.10/site-packages (from nbclassic>=0.4.7->notebook>=4.4.1->widgetsnbextension~=3.5.0->ipywidgets) (0.2.2)\n",
      "Requirement already satisfied: defusedxml in /Users/joancodinach/anaconda3/lib/python3.10/site-packages (from nbconvert>=5->notebook>=4.4.1->widgetsnbextension~=3.5.0->ipywidgets) (0.7.1)\n",
      "Requirement already satisfied: jupyterlab-pygments in /Users/joancodinach/anaconda3/lib/python3.10/site-packages (from nbconvert>=5->notebook>=4.4.1->widgetsnbextension~=3.5.0->ipywidgets) (0.1.2)\n",
      "Requirement already satisfied: mistune<2,>=0.8.1 in /Users/joancodinach/anaconda3/lib/python3.10/site-packages (from nbconvert>=5->notebook>=4.4.1->widgetsnbextension~=3.5.0->ipywidgets) (0.8.4)\n",
      "Requirement already satisfied: nbclient>=0.5.0 in /Users/joancodinach/anaconda3/lib/python3.10/site-packages (from nbconvert>=5->notebook>=4.4.1->widgetsnbextension~=3.5.0->ipywidgets) (0.5.13)\n",
      "Requirement already satisfied: beautifulsoup4 in /Users/joancodinach/anaconda3/lib/python3.10/site-packages (from nbconvert>=5->notebook>=4.4.1->widgetsnbextension~=3.5.0->ipywidgets) (4.11.1)\n",
      "Requirement already satisfied: lxml in /Users/joancodinach/anaconda3/lib/python3.10/site-packages (from nbconvert>=5->notebook>=4.4.1->widgetsnbextension~=3.5.0->ipywidgets) (4.9.1)\n",
      "Requirement already satisfied: bleach in /Users/joancodinach/anaconda3/lib/python3.10/site-packages (from nbconvert>=5->notebook>=4.4.1->widgetsnbextension~=3.5.0->ipywidgets) (4.1.0)\n",
      "Requirement already satisfied: tinycss2 in /Users/joancodinach/anaconda3/lib/python3.10/site-packages (from nbconvert>=5->notebook>=4.4.1->widgetsnbextension~=3.5.0->ipywidgets) (1.2.1)\n",
      "Requirement already satisfied: pandocfilters>=1.4.1 in /Users/joancodinach/anaconda3/lib/python3.10/site-packages (from nbconvert>=5->notebook>=4.4.1->widgetsnbextension~=3.5.0->ipywidgets) (1.5.0)\n",
      "Requirement already satisfied: MarkupSafe>=2.0 in /Users/joancodinach/anaconda3/lib/python3.10/site-packages (from nbconvert>=5->notebook>=4.4.1->widgetsnbextension~=3.5.0->ipywidgets) (2.1.1)\n",
      "Requirement already satisfied: six>=1.5 in /Users/joancodinach/anaconda3/lib/python3.10/site-packages (from python-dateutil>=2.8.2->jupyter-client>=6.1.12->ipykernel>=4.5.1->ipywidgets) (1.16.0)\n"
     ]
    },
    {
     "name": "stdout",
     "output_type": "stream",
     "text": [
      "Requirement already satisfied: argon2-cffi-bindings in /Users/joancodinach/anaconda3/lib/python3.10/site-packages (from argon2-cffi->notebook>=4.4.1->widgetsnbextension~=3.5.0->ipywidgets) (21.2.0)\n",
      "Requirement already satisfied: websocket-client in /Users/joancodinach/anaconda3/lib/python3.10/site-packages (from jupyter-server>=1.8->nbclassic>=0.4.7->notebook>=4.4.1->widgetsnbextension~=3.5.0->ipywidgets) (0.58.0)\n",
      "Requirement already satisfied: anyio<4,>=3.1.0 in /Users/joancodinach/anaconda3/lib/python3.10/site-packages (from jupyter-server>=1.8->nbclassic>=0.4.7->notebook>=4.4.1->widgetsnbextension~=3.5.0->ipywidgets) (3.5.0)\n",
      "Requirement already satisfied: cffi>=1.0.1 in /Users/joancodinach/anaconda3/lib/python3.10/site-packages (from argon2-cffi-bindings->argon2-cffi->notebook>=4.4.1->widgetsnbextension~=3.5.0->ipywidgets) (1.15.1)\n",
      "Requirement already satisfied: soupsieve>1.2 in /Users/joancodinach/anaconda3/lib/python3.10/site-packages (from beautifulsoup4->nbconvert>=5->notebook>=4.4.1->widgetsnbextension~=3.5.0->ipywidgets) (2.3.2.post1)\n",
      "Requirement already satisfied: webencodings in /Users/joancodinach/anaconda3/lib/python3.10/site-packages (from bleach->nbconvert>=5->notebook>=4.4.1->widgetsnbextension~=3.5.0->ipywidgets) (0.5.1)\n",
      "Requirement already satisfied: sniffio>=1.1 in /Users/joancodinach/anaconda3/lib/python3.10/site-packages (from anyio<4,>=3.1.0->jupyter-server>=1.8->nbclassic>=0.4.7->notebook>=4.4.1->widgetsnbextension~=3.5.0->ipywidgets) (1.2.0)\n",
      "Requirement already satisfied: idna>=2.8 in /Users/joancodinach/anaconda3/lib/python3.10/site-packages (from anyio<4,>=3.1.0->jupyter-server>=1.8->nbclassic>=0.4.7->notebook>=4.4.1->widgetsnbextension~=3.5.0->ipywidgets) (3.4)\n",
      "Requirement already satisfied: pycparser in /Users/joancodinach/anaconda3/lib/python3.10/site-packages (from cffi>=1.0.1->argon2-cffi-bindings->argon2-cffi->notebook>=4.4.1->widgetsnbextension~=3.5.0->ipywidgets) (2.21)\n"
     ]
    }
   ],
   "source": [
    "!pip install ipywidgets"
   ]
  },
  {
   "cell_type": "code",
   "execution_count": 4,
   "id": "b036f2f7",
   "metadata": {},
   "outputs": [
    {
     "name": "stdout",
     "output_type": "stream",
     "text": [
      "Requirement already satisfied: mplleaflet in /Users/joancodinach/anaconda3/lib/python3.10/site-packages (0.0.5)\r\n",
      "Requirement already satisfied: jinja2 in /Users/joancodinach/anaconda3/lib/python3.10/site-packages (from mplleaflet) (3.1.2)\r\n",
      "Requirement already satisfied: six in /Users/joancodinach/anaconda3/lib/python3.10/site-packages (from mplleaflet) (1.16.0)\r\n",
      "Requirement already satisfied: MarkupSafe>=2.0 in /Users/joancodinach/anaconda3/lib/python3.10/site-packages (from jinja2->mplleaflet) (2.1.1)\r\n"
     ]
    }
   ],
   "source": [
    "!pip install mplleaflet"
   ]
  },
  {
   "cell_type": "code",
   "execution_count": 5,
   "id": "2abe2506",
   "metadata": {},
   "outputs": [
    {
     "name": "stderr",
     "output_type": "stream",
     "text": [
      "/var/folders/5x/dy8s9sr51cj4g2xwf0x87qpr0000gn/T/ipykernel_16709/2473910224.py:16: FutureWarning: The geopandas.dataset module is deprecated and will be removed in GeoPandas 1.0. You can get the original 'naturalearth_lowres' data from https://www.naturalearthdata.com/downloads/110m-cultural-vectors/.\n",
      "  world = gpd.read_file(gpd.datasets.get_path('naturalearth_lowres'))\n"
     ]
    },
    {
     "data": {
      "application/vnd.jupyter.widget-view+json": {
       "model_id": "bc7dc588bbbb46c39d3043602d24a4af",
       "version_major": 2,
       "version_minor": 0
      },
      "text/plain": [
       "interactive(children=(IntSlider(value=1990, description='Any', max=2019, min=1990), Dropdown(description='Mala…"
      ]
     },
     "metadata": {},
     "output_type": "display_data"
    },
    {
     "data": {
      "text/plain": [
       "<function __main__.update_map(year_filter, disease_filter)>"
      ]
     },
     "execution_count": 5,
     "metadata": {},
     "output_type": "execute_result"
    }
   ],
   "source": [
    "import pandas as pd\n",
    "import geopandas as gpd\n",
    "import matplotlib.pyplot as plt\n",
    "from ipywidgets import interact, widgets\n",
    "\n",
    "# Substitueix 'ruta/al/dataset.csv' amb la ruta real del teu fitxer CSV\n",
    "ruta_del_fitxer = 'cause_of_deaths.csv'\n",
    "\n",
    "pd.set_option('display.max_rows', None)\n",
    "pd.set_option('display.max_columns', None)\n",
    "\n",
    "# Llegeix el fitxer CSV\n",
    "df = pd.read_csv(ruta_del_fitxer)\n",
    "\n",
    "# Carrega les dades geoespacials dels països directament des de la font original\n",
    "world = gpd.read_file(gpd.datasets.get_path('naturalearth_lowres'))\n",
    "\n",
    "def update_map(year_filter, disease_filter):\n",
    "    # Filtra per any i malaltia\n",
    "    filtered_data = df[df['Year'] == year_filter]\n",
    "    filtered_data = filtered_data[['Country/Territory', 'Code', 'Year', disease_filter]]\n",
    "\n",
    "    # Fusiona les dades geoespacials amb les teves dades filtrades\n",
    "    merged_data = world.merge(filtered_data, left_on='name', right_on='Country/Territory')\n",
    "\n",
    "    # Crea la visualització\n",
    "    fig, ax = plt.subplots(1, 1, figsize=(15, 10))\n",
    "    ax.set_title(f'Morts per {disease_filter} al {year_filter}', fontsize=16)\n",
    "\n",
    "    # Crea el mapa de cloroplete amb una escala de colors\n",
    "    merged_data.plot(column=disease_filter, cmap='OrRd', linewidth=0.8, ax=ax, edgecolor='0.8', legend=True)\n",
    "\n",
    "    # Personalitza l'aspecte del mapa\n",
    "    ax.axis('off')\n",
    "    plt.show()\n",
    "\n",
    "    # Taula de morts per país\n",
    "    deaths_table = filtered_data.sort_values(by=disease_filter, ascending=False)[['Country/Territory', disease_filter]]\n",
    "    deaths_table.columns = ['País', 'Morts']\n",
    "    deaths_table.reset_index(drop=True, inplace=True)  # Resetea el índice y comienza desde 0\n",
    "    deaths_table.index += 1  # Incrementa el índice en 1\n",
    "    deaths_table['País'] = deaths_table['País'].apply(lambda x: x.split(\"\\t\")[1] if \"\\t\" in x else x)\n",
    "    deaths_table['Morts'] = deaths_table['Morts'].apply(lambda x: '{:,.0f}'.format(x).replace(',', '.'))  # Puntos en lugar de comas\n",
    "\n",
    "    display(deaths_table)\n",
    "\n",
    "# Crea un selector interactiu per a l'any\n",
    "year_selector = widgets.IntSlider(min=1990, max=2019, step=1, value=1990, description='Any')\n",
    "\n",
    "# Obte les malalties disponibles\n",
    "diseases = df.columns[3:]\n",
    "# Crea un selector interactiu per a les malalties\n",
    "disease_selector = widgets.Dropdown(options=diseases, value='Meningitis', description='Malaltia')\n",
    "\n",
    "# Connecta els selectors amb la funció de visualització\n",
    "interact(update_map, year_filter=year_selector, disease_filter=disease_selector)"
   ]
  },
  {
   "cell_type": "code",
   "execution_count": 6,
   "id": "c8f52a76",
   "metadata": {},
   "outputs": [
    {
     "name": "stderr",
     "output_type": "stream",
     "text": [
      "/var/folders/5x/dy8s9sr51cj4g2xwf0x87qpr0000gn/T/ipykernel_16709/1886484900.py:16: FutureWarning: The geopandas.dataset module is deprecated and will be removed in GeoPandas 1.0. You can get the original 'naturalearth_lowres' data from https://www.naturalearthdata.com/downloads/110m-cultural-vectors/.\n",
      "  world = gpd.read_file(gpd.datasets.get_path('naturalearth_lowres'))\n"
     ]
    },
    {
     "data": {
      "application/vnd.jupyter.widget-view+json": {
       "model_id": "433419297fc841658e002146cd7e68f1",
       "version_major": 2,
       "version_minor": 0
      },
      "text/plain": [
       "interactive(children=(IntSlider(value=1990, description='Any', max=2019, min=1990), Dropdown(description='Mala…"
      ]
     },
     "metadata": {},
     "output_type": "display_data"
    },
    {
     "data": {
      "text/plain": [
       "<function __main__.update_map(year_filter, disease_filter)>"
      ]
     },
     "execution_count": 6,
     "metadata": {},
     "output_type": "execute_result"
    }
   ],
   "source": [
    "import pandas as pd\n",
    "import geopandas as gpd\n",
    "import matplotlib.pyplot as plt\n",
    "from ipywidgets import interact, widgets\n",
    "\n",
    "# Substitueix 'ruta/al/dataset.csv' amb la ruta real del teu fitxer CSV\n",
    "ruta_del_fitxer = 'cause_of_deaths.csv'\n",
    "\n",
    "pd.set_option('display.max_rows', None)\n",
    "pd.set_option('display.max_columns', None)\n",
    "\n",
    "# Llegeix el fitxer CSV\n",
    "df = pd.read_csv(ruta_del_fitxer)\n",
    "\n",
    "# Carrega les dades geoespacials dels països\n",
    "world = gpd.read_file(gpd.datasets.get_path('naturalearth_lowres'))\n",
    "\n",
    "def update_map(year_filter, disease_filter):\n",
    "    # Filtra per any i malaltia\n",
    "    filtered_data = df[df['Year'] == year_filter]\n",
    "    filtered_data = filtered_data[['Country/Territory', 'Code', 'Year', disease_filter]]\n",
    "\n",
    "    # Fusiona les dades geoespacials amb les teves dades filtrades\n",
    "    merged_data = world.merge(filtered_data, left_on='name', right_on='Country/Territory')\n",
    "\n",
    "    # Crea la visualització\n",
    "    fig, ax = plt.subplots(1, 1, figsize=(15, 10))\n",
    "    ax.set_title(f'Morts per {disease_filter} al {year_filter}', fontsize=16)\n",
    "\n",
    "    # Crea el mapa de cloroplete amb una escala de colors\n",
    "    merged_data.plot(column=disease_filter, cmap='OrRd', linewidth=0.8, ax=ax, edgecolor='0.8', legend=True)\n",
    "\n",
    "    # Personalitza l'aspecte del mapa\n",
    "    ax.axis('off')\n",
    "    plt.show()\n",
    "    \n",
    "\n",
    "    # Taula de morts per país\n",
    "    deaths_table = filtered_data.sort_values(by=disease_filter, ascending=False)[['Country/Territory', disease_filter]]\n",
    "    deaths_table.columns = ['País', 'Morts']\n",
    "    deaths_table.reset_index(drop=True, inplace=True)  # Resetea el índice y comienza desde 0\n",
    "    deaths_table.index += 1  # Incrementa el índice en 1\n",
    "    deaths_table['País'] = deaths_table['País'].apply(lambda x: x.split(\"\\t\")[1] if \"\\t\" in x else x)\n",
    "    deaths_table['Morts'] = deaths_table['Morts'].apply(lambda x: '{:,.0f}'.format(x).replace(',', '.'))  # Puntos en lugar de comas\n",
    "\n",
    "    display(deaths_table)\n",
    "\n",
    "\n",
    "# Crea un selector interactiu per a l'any\n",
    "year_selector = widgets.IntSlider(min=1990, max=2019, step=1, value=1990, description='Any')\n",
    "\n",
    "# Obte les malalties disponibles\n",
    "diseases = df.columns[3:]\n",
    "# Crea un selector interactiu per a les malalties\n",
    "disease_selector = widgets.Dropdown(options=diseases, value='Meningitis', description='Malaltia')\n",
    "\n",
    "# Connecta els selectors amb la funció de visualització\n",
    "interact(update_map, year_filter=year_selector, disease_filter=disease_selector)"
   ]
  },
  {
   "cell_type": "code",
   "execution_count": 7,
   "id": "95f24fc4",
   "metadata": {},
   "outputs": [
    {
     "name": "stderr",
     "output_type": "stream",
     "text": [
      "/var/folders/5x/dy8s9sr51cj4g2xwf0x87qpr0000gn/T/ipykernel_16709/1348544265.py:16: FutureWarning: The geopandas.dataset module is deprecated and will be removed in GeoPandas 1.0. You can get the original 'naturalearth_lowres' data from https://www.naturalearthdata.com/downloads/110m-cultural-vectors/.\n",
      "  world = gpd.read_file(gpd.datasets.get_path('naturalearth_lowres'))\n"
     ]
    },
    {
     "data": {
      "application/vnd.jupyter.widget-view+json": {
       "model_id": "99a17fa86513450faf9aa6fed3d5ca14",
       "version_major": 2,
       "version_minor": 0
      },
      "text/plain": [
       "interactive(children=(IntSlider(value=1990, description='Any', max=2019, min=1990), Dropdown(description='Mala…"
      ]
     },
     "metadata": {},
     "output_type": "display_data"
    },
    {
     "data": {
      "text/plain": [
       "<function __main__.update_map(year_filter, disease_filter)>"
      ]
     },
     "execution_count": 7,
     "metadata": {},
     "output_type": "execute_result"
    }
   ],
   "source": [
    "import pandas as pd\n",
    "import geopandas as gpd\n",
    "import matplotlib.pyplot as plt\n",
    "from ipywidgets import interact, widgets\n",
    "\n",
    "# Substitueix 'ruta/al/dataset.csv' amb la ruta real del teu fitxer CSV\n",
    "ruta_del_fitxer = 'cause_of_deaths.csv'\n",
    "\n",
    "pd.set_option('display.max_rows', None)\n",
    "pd.set_option('display.max_columns', None)\n",
    "\n",
    "# Llegeix el fitxer CSV\n",
    "df = pd.read_csv(ruta_del_fitxer)\n",
    "\n",
    "# Carrega les dades geoespacials dels països directament des de la font original\n",
    "world = gpd.read_file(gpd.datasets.get_path('naturalearth_lowres'))\n",
    "\n",
    "def update_map(year_filter, disease_filter):\n",
    "    # Filtra per any i malaltia\n",
    "    filtered_data = df[df['Year'] == year_filter]\n",
    "    filtered_data = filtered_data[['Country/Territory', 'Code', 'Year', disease_filter]]\n",
    "\n",
    "    # Fusiona les dades geoespacials amb les teves dades filtrades\n",
    "    merged_data = world.merge(filtered_data, left_on='name', right_on='Country/Territory')\n",
    "\n",
    "    # Crea la visualització\n",
    "    fig, ax = plt.subplots(1, 1, figsize=(15, 10))\n",
    "    ax.set_title(f'Morts per {disease_filter} al {year_filter}', fontsize=16)\n",
    "\n",
    "    # Crea el mapa de cloroplete amb una escala de colors\n",
    "    merged_data.plot(column=disease_filter, cmap='OrRd', linewidth=0.8, ax=ax, edgecolor='0.8', legend=True)\n",
    "\n",
    "    # Personalitza l'aspecte del mapa\n",
    "    ax.axis('off')\n",
    "    plt.show()\n",
    "\n",
    "    # Taula de morts per país\n",
    "    deaths_table = filtered_data.sort_values(by=disease_filter, ascending=False)[['Country/Territory', disease_filter]]\n",
    "    deaths_table.columns = ['País', 'Morts']\n",
    "    deaths_table.reset_index(drop=True, inplace=True)  # Resetea el índice y comienza desde 0\n",
    "    deaths_table.index += 1  # Incrementa el índice en 1\n",
    "    deaths_table['País'] = deaths_table['País'].apply(lambda x: x.split(\"\\t\")[1] if \"\\t\" in x else x)\n",
    "    deaths_table['Morts'] = deaths_table['Morts'].apply(lambda x: '{:,.0f}'.format(x).replace(',', '.'))  # Puntos en lugar de comas\n",
    "\n",
    "    display(deaths_table)\n",
    "\n",
    "# Crea un selector interactiu per a l'any\n",
    "year_selector = widgets.IntSlider(min=1990, max=2019, step=1, value=1990, description='Any')\n",
    "\n",
    "# Obte les malalties disponibles\n",
    "diseases = df.columns[3:]\n",
    "# Crea un selector interactiu per a les malalties\n",
    "disease_selector = widgets.Dropdown(options=diseases, value='Meningitis', description='Malaltia')\n",
    "\n",
    "# Connecta els selectors amb la funció de visualització\n",
    "interact(update_map, year_filter=year_selector, disease_filter=disease_selector)\n"
   ]
  },
  {
   "cell_type": "code",
   "execution_count": 19,
   "id": "64e692f7",
   "metadata": {},
   "outputs": [
    {
     "data": {
      "application/vnd.jupyter.widget-view+json": {
       "model_id": "4d12dbf340fd48f0bd1cffa752559ff6",
       "version_major": 2,
       "version_minor": 0
      },
      "text/plain": [
       "interactive(children=(IntSlider(value=1990, description='Any', max=2019, min=1990), Dropdown(description='Mala…"
      ]
     },
     "metadata": {},
     "output_type": "display_data"
    },
    {
     "data": {
      "text/plain": [
       "<function __main__.update_map(year_filter, disease_filter, continent_filter)>"
      ]
     },
     "execution_count": 19,
     "metadata": {},
     "output_type": "execute_result"
    }
   ],
   "source": [
    "import pandas as pd\n",
    "import geopandas as gpd\n",
    "import matplotlib.pyplot as plt\n",
    "from ipywidgets import interact, widgets\n",
    "\n",
    "# Substitueix 'ruta/al/dataset.csv' amb la ruta real del teu fitxer CSV\n",
    "ruta_del_fitxer = 'cause_of_deaths.csv'\n",
    "\n",
    "pd.set_option('display.max_rows', None)\n",
    "pd.set_option('display.max_columns', None)\n",
    "\n",
    "# Llegeix el fitxer CSV\n",
    "df = pd.read_csv(ruta_del_fitxer)\n",
    "\n",
    "# Carrega les dades geoespacials dels països directament des de la font original\n",
    "#world = gpd.read_file(gpd.datasets.get_path('naturalearth_lowres'))\n",
    "#print(world)\n",
    "#world = world[world['continent'] == 'Europe']\n",
    "# Agrega datos de continentes al DataFrame de los países\n",
    "#world['Continent'] = world['continent']\n",
    "continent_list = world['continent'].unique()\n",
    "# Elimina 'Seven' y 'Antarctica'\n",
    "continent_list = [continent for continent in continent_list if continent not in ['Seven seas (open ocean)', 'Antarctica']]\n",
    "\n",
    "continent_list.insert(0, 'Todos')\n",
    "def update_map(year_filter, disease_filter, continent_filter):\n",
    "\n",
    "    world = gpd.read_file(gpd.datasets.get_path('naturalearth_lowres'))\n",
    "    #print(world)\n",
    "    if continent_filter != 'Todos':\n",
    "        world = world[world['continent'] == continent_filter]\n",
    "    \n",
    "    # Filtra per any i malaltia\n",
    "    #filtered_data = df[(df['Year'] == year_filter) & (df['Continent'] == continent_filter)]\n",
    "    filtered_data = df[df['Year'] == year_filter]\n",
    "    filtered_data = filtered_data[['Country/Territory', 'Code', 'Year', disease_filter]]\n",
    "\n",
    "    # He filtrat les dades per codi , perquè quan ho feiem per nom perdiem la meitat de païssos\n",
    "    merged_data = world.merge(filtered_data, left_on='iso_a3', right_on='Code')\n",
    "\n",
    "    # Crea la visualització\n",
    "    fig, ax = plt.subplots(1, 1, figsize=(15, 10))\n",
    "    if continent_filter != 'Todos':\n",
    "        ax.set_title(f'Morts per {disease_filter} al {year_filter} al continent {continent_filter}', fontsize=16)\n",
    "    else:\n",
    "        ax.set_title(f'Morts per {disease_filter} al {year_filter}', fontsize=16)\n",
    "\n",
    "    # Crea el mapa de cloroplete amb una escala de colors\n",
    "    merged_data.plot(column=disease_filter, cmap='OrRd', linewidth=0.8, ax=ax, edgecolor='0.8', legend=True)\n",
    "\n",
    "    # Personalitza l'aspecte del mapa\n",
    "    ax.axis('off')\n",
    "    plt.show()\n",
    "\n",
    "  \n",
    "\n",
    "# Crea un selector interactiu per a l'any\n",
    "year_selector = widgets.IntSlider(min=1990, max=2019, step=1, value=1990, description='Any')\n",
    "\n",
    "# Obte les malalties disponibles\n",
    "diseases = df.columns[3:]\n",
    "# Crea un selector interactiu per a les malalties\n",
    "disease_selector = widgets.Dropdown(options=diseases, value='Meningitis', description='Malaltia')\n",
    "\n",
    "# Obtenir els continents disponibles\n",
    "#continents = world['Continent'].unique()\n",
    "# Crea un selector interactiu per als continents\n",
    "continent_selector = widgets.Dropdown(options=continent_list, value='Todos', description='Continent')\n",
    "\n",
    "# Connecta els selectors amb la funció de visualització\n",
    "interact(update_map, year_filter=year_selector, disease_filter=disease_selector, continent_filter=continent_selector)\n"
   ]
  },
  {
   "cell_type": "code",
   "execution_count": null,
   "id": "803614c0",
   "metadata": {},
   "outputs": [],
   "source": []
  }
 ],
 "metadata": {
  "kernelspec": {
   "display_name": "Python 3 (ipykernel)",
   "language": "python",
   "name": "python3"
  },
  "language_info": {
   "codemirror_mode": {
    "name": "ipython",
    "version": 3
   },
   "file_extension": ".py",
   "mimetype": "text/x-python",
   "name": "python",
   "nbconvert_exporter": "python",
   "pygments_lexer": "ipython3",
   "version": "3.10.9"
  }
 },
 "nbformat": 4,
 "nbformat_minor": 5
}
